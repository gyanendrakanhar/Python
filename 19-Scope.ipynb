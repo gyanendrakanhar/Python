{
 "cells": [
  {
   "cell_type": "code",
   "execution_count": 1,
   "id": "e94b51ff-153f-46e3-a725-e90f7418d532",
   "metadata": {},
   "outputs": [],
   "source": [
    "number = 10\n",
    "def multiply(num):\n",
    "    number = 5\n",
    "    return num * number"
   ]
  },
  {
   "cell_type": "code",
   "execution_count": 2,
   "id": "568444da-25bd-41fc-9d74-13ef6d30fcb1",
   "metadata": {},
   "outputs": [
    {
     "data": {
      "text/plain": [
       "50"
      ]
     },
     "execution_count": 2,
     "metadata": {},
     "output_type": "execute_result"
    }
   ],
   "source": [
    "multiply(10)"
   ]
  },
  {
   "cell_type": "code",
   "execution_count": 3,
   "id": "4aaaa185-e716-427a-871d-be360c582c55",
   "metadata": {},
   "outputs": [
    {
     "name": "stdout",
     "output_type": "stream",
     "text": [
      "10\n"
     ]
    }
   ],
   "source": [
    "print(number)"
   ]
  },
  {
   "cell_type": "code",
   "execution_count": 4,
   "id": "3307f601-da73-4e45-adbe-2b000cb375c3",
   "metadata": {},
   "outputs": [],
   "source": [
    "a = 10\n",
    "a = 5"
   ]
  },
  {
   "cell_type": "code",
   "execution_count": 6,
   "id": "4b288c93-4d33-4567-99f7-097c40947a4b",
   "metadata": {},
   "outputs": [
    {
     "name": "stdout",
     "output_type": "stream",
     "text": [
      "5\n"
     ]
    }
   ],
   "source": [
    "print(a)"
   ]
  },
  {
   "cell_type": "markdown",
   "id": "ba29beef-bc0a-4625-859b-958be8d5b5c0",
   "metadata": {},
   "source": [
    "# LEGB\n",
    "# L -> Local\n",
    "# E -> Enclosing\n",
    "# G -> Global\n",
    "# B -> Build-in"
   ]
  },
  {
   "cell_type": "code",
   "execution_count": 7,
   "id": "ac5f1526-71f0-4b7c-8277-fdba40f2e731",
   "metadata": {},
   "outputs": [],
   "source": [
    "my_string = \"Gyan\"\n",
    "#Global\n",
    "\n",
    "def my_func():\n",
    "    my_string = \"James\"\n",
    "    #Enclosing\n",
    "\n",
    "    def my_func_2():\n",
    "        #local\n",
    "        my_string = \"Lars\"\n",
    "        print(my_string)\n",
    "\n",
    "    my_func_2()"
   ]
  },
  {
   "cell_type": "code",
   "execution_count": 8,
   "id": "52ea8840-f664-4f45-bc84-c072fe0d1977",
   "metadata": {},
   "outputs": [
    {
     "name": "stdout",
     "output_type": "stream",
     "text": [
      "Lars\n"
     ]
    }
   ],
   "source": [
    "my_func()"
   ]
  },
  {
   "cell_type": "code",
   "execution_count": 9,
   "id": "1a5e5d86-fa01-444e-8128-c1b7a0b918fe",
   "metadata": {},
   "outputs": [
    {
     "data": {
      "text/plain": [
       "'Gyan'"
      ]
     },
     "execution_count": 9,
     "metadata": {},
     "output_type": "execute_result"
    }
   ],
   "source": [
    "my_string"
   ]
  },
  {
   "cell_type": "code",
   "execution_count": 10,
   "id": "0dab13ca-b1db-4452-9446-ab66a7dc0bb6",
   "metadata": {},
   "outputs": [],
   "source": [
    "y = 10\n",
    "def func_new(y):\n",
    "    print(y)\n",
    "    y = 5\n",
    "    return(y)"
   ]
  },
  {
   "cell_type": "code",
   "execution_count": 11,
   "id": "0aaef86f-4f67-4aa8-b024-f71c92f595dc",
   "metadata": {},
   "outputs": [
    {
     "name": "stdout",
     "output_type": "stream",
     "text": [
      "8\n"
     ]
    },
    {
     "data": {
      "text/plain": [
       "5"
      ]
     },
     "execution_count": 11,
     "metadata": {},
     "output_type": "execute_result"
    }
   ],
   "source": [
    "func_new(8)"
   ]
  },
  {
   "cell_type": "code",
   "execution_count": 12,
   "id": "976537fc-d643-4b91-891a-2b9675995601",
   "metadata": {},
   "outputs": [
    {
     "name": "stdout",
     "output_type": "stream",
     "text": [
      "10\n"
     ]
    }
   ],
   "source": [
    "y = func_new(y)"
   ]
  },
  {
   "cell_type": "code",
   "execution_count": 13,
   "id": "272c7012-50fb-4ad9-b092-ba2a5698c8cf",
   "metadata": {},
   "outputs": [
    {
     "data": {
      "text/plain": [
       "5"
      ]
     },
     "execution_count": 13,
     "metadata": {},
     "output_type": "execute_result"
    }
   ],
   "source": [
    "y"
   ]
  },
  {
   "cell_type": "code",
   "execution_count": 14,
   "id": "f91e127d-44a8-47cd-8c76-20ca9a232f68",
   "metadata": {},
   "outputs": [],
   "source": [
    "y = 10\n",
    "def func_new():\n",
    "    global y\n",
    "    y = 5\n",
    "    print(y)"
   ]
  },
  {
   "cell_type": "code",
   "execution_count": 15,
   "id": "797a8e3b-f195-4e99-a35f-28a6b8d6c358",
   "metadata": {},
   "outputs": [
    {
     "name": "stdout",
     "output_type": "stream",
     "text": [
      "5\n"
     ]
    }
   ],
   "source": [
    "func_new()"
   ]
  },
  {
   "cell_type": "code",
   "execution_count": 16,
   "id": "ca75c126-942a-419e-81a7-2726f19e4834",
   "metadata": {},
   "outputs": [
    {
     "data": {
      "text/plain": [
       "5"
      ]
     },
     "execution_count": 16,
     "metadata": {},
     "output_type": "execute_result"
    }
   ],
   "source": [
    "y"
   ]
  },
  {
   "cell_type": "code",
   "execution_count": null,
   "id": "e43a0c2a-e6d3-4356-afe6-79ad8f8e3267",
   "metadata": {},
   "outputs": [],
   "source": []
  }
 ],
 "metadata": {
  "kernelspec": {
   "display_name": "Python 3 (ipykernel)",
   "language": "python",
   "name": "python3"
  },
  "language_info": {
   "codemirror_mode": {
    "name": "ipython",
    "version": 3
   },
   "file_extension": ".py",
   "mimetype": "text/x-python",
   "name": "python",
   "nbconvert_exporter": "python",
   "pygments_lexer": "ipython3",
   "version": "3.11.7"
  }
 },
 "nbformat": 4,
 "nbformat_minor": 5
}
