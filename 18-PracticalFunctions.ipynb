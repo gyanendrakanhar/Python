{
 "cells": [
  {
   "cell_type": "code",
   "execution_count": 2,
   "id": "544078c5-7fa7-4553-b936-70ca31be8b61",
   "metadata": {},
   "outputs": [],
   "source": [
    "def divide(number):\n",
    "    return number / 2"
   ]
  },
  {
   "cell_type": "code",
   "execution_count": 3,
   "id": "4beb3813-91e2-4d7b-ae01-70a7ccca51fd",
   "metadata": {},
   "outputs": [
    {
     "data": {
      "text/plain": [
       "5.0"
      ]
     },
     "execution_count": 3,
     "metadata": {},
     "output_type": "execute_result"
    }
   ],
   "source": [
    "divide(10)"
   ]
  },
  {
   "cell_type": "code",
   "execution_count": 4,
   "id": "53f6b767-4be4-43ad-a61f-294f27eaec9f",
   "metadata": {},
   "outputs": [],
   "source": [
    "my_list = [1,2,3,4,5,6,7,8]"
   ]
  },
  {
   "cell_type": "code",
   "execution_count": 5,
   "id": "bfe5bd9c-3624-4beb-a5b6-dbd26cfef278",
   "metadata": {},
   "outputs": [
    {
     "name": "stdout",
     "output_type": "stream",
     "text": [
      "[0.5, 1.0, 1.5, 2.0, 2.5, 3.0, 3.5, 4.0]\n"
     ]
    }
   ],
   "source": [
    "my_new_list = []\n",
    "for num in my_list:\n",
    "    my_new_list.append(divide(num))\n",
    "print(my_new_list)"
   ]
  },
  {
   "cell_type": "markdown",
   "id": "1d8a4097-b38c-4f84-8caa-831c290cc4f1",
   "metadata": {},
   "source": [
    "## map"
   ]
  },
  {
   "cell_type": "code",
   "execution_count": 6,
   "id": "6538f3f3-af96-48e6-85d5-5e56e477c256",
   "metadata": {},
   "outputs": [
    {
     "data": {
      "text/plain": [
       "[0.5, 1.0, 1.5, 2.0, 2.5, 3.0, 3.5, 4.0]"
      ]
     },
     "execution_count": 6,
     "metadata": {},
     "output_type": "execute_result"
    }
   ],
   "source": [
    "list(map(divide,my_list))"
   ]
  },
  {
   "cell_type": "code",
   "execution_count": 7,
   "id": "be167ed3-4695-4edc-81a9-2cd8ad3d0e94",
   "metadata": {},
   "outputs": [],
   "source": [
    "def control_string(string):\n",
    "    return \"Metallica\" in string"
   ]
  },
  {
   "cell_type": "code",
   "execution_count": 8,
   "id": "e8dd741d-6aa3-4a1d-aeb9-e1bb0e96fc1e",
   "metadata": {},
   "outputs": [
    {
     "data": {
      "text/plain": [
       "True"
      ]
     },
     "execution_count": 8,
     "metadata": {},
     "output_type": "execute_result"
    }
   ],
   "source": [
    "control_string(\"Metallica dsfds\")"
   ]
  },
  {
   "cell_type": "code",
   "execution_count": 9,
   "id": "c0229c4e-eaa5-4730-a17f-23766d49db57",
   "metadata": {},
   "outputs": [],
   "source": [
    "my_artist_list = [\"Metallica\", \"Madonna\", \"Queen\", \"Muslum\", \"Metallica2\"]"
   ]
  },
  {
   "cell_type": "code",
   "execution_count": 10,
   "id": "1f713274-7695-4dfb-8fd1-5bd0234f0eed",
   "metadata": {},
   "outputs": [
    {
     "data": {
      "text/plain": [
       "[True, False, False, False, True]"
      ]
     },
     "execution_count": 10,
     "metadata": {},
     "output_type": "execute_result"
    }
   ],
   "source": [
    "list(map(control_string,my_artist_list))"
   ]
  },
  {
   "cell_type": "markdown",
   "id": "d7d3f78b-fe8a-4aba-9bb1-e064cea7466e",
   "metadata": {},
   "source": [
    "## filter"
   ]
  },
  {
   "cell_type": "code",
   "execution_count": 11,
   "id": "c10a8525-eac2-4488-bb9f-1302a002d5b3",
   "metadata": {},
   "outputs": [
    {
     "data": {
      "text/plain": [
       "['Metallica', 'Metallica2']"
      ]
     },
     "execution_count": 11,
     "metadata": {},
     "output_type": "execute_result"
    }
   ],
   "source": [
    "list(filter(control_string,my_artist_list))"
   ]
  },
  {
   "cell_type": "markdown",
   "id": "cf2b2d19-a609-4c2c-b454-dd8faa0cde4b",
   "metadata": {},
   "source": [
    "# lambda"
   ]
  },
  {
   "cell_type": "code",
   "execution_count": 27,
   "id": "f808bec4-aeb1-40ed-94b5-d78e988d335b",
   "metadata": {},
   "outputs": [],
   "source": [
    "multiply = lambda number:number * 3"
   ]
  },
  {
   "cell_type": "code",
   "execution_count": 28,
   "id": "064fbdef-9b20-4080-b108-5e9952e07b26",
   "metadata": {},
   "outputs": [
    {
     "data": {
      "text/plain": [
       "15"
      ]
     },
     "execution_count": 28,
     "metadata": {},
     "output_type": "execute_result"
    }
   ],
   "source": [
    "multiply(5)"
   ]
  },
  {
   "cell_type": "code",
   "execution_count": 29,
   "id": "8a35b296-bc6b-4c59-937b-8ddb11638dd0",
   "metadata": {},
   "outputs": [],
   "source": [
    "my_list_3 = [3,5,7,9]"
   ]
  },
  {
   "cell_type": "code",
   "execution_count": 30,
   "id": "f78097a3-7972-45fe-8c4d-dda78f18f7f4",
   "metadata": {},
   "outputs": [
    {
     "data": {
      "text/plain": [
       "[12, 20, 28, 36]"
      ]
     },
     "execution_count": 30,
     "metadata": {},
     "output_type": "execute_result"
    }
   ],
   "source": [
    "list(map(lambda num:num*4,my_list_3))"
   ]
  }
 ],
 "metadata": {
  "kernelspec": {
   "display_name": "Python 3 (ipykernel)",
   "language": "python",
   "name": "python3"
  },
  "language_info": {
   "codemirror_mode": {
    "name": "ipython",
    "version": 3
   },
   "file_extension": ".py",
   "mimetype": "text/x-python",
   "name": "python",
   "nbconvert_exporter": "python",
   "pygments_lexer": "ipython3",
   "version": "3.11.7"
  }
 },
 "nbformat": 4,
 "nbformat_minor": 5
}
