{
 "cells": [
  {
   "cell_type": "code",
   "execution_count": 1,
   "id": "94ad13fb-a45a-4647-883e-b17df2c9f33d",
   "metadata": {},
   "outputs": [],
   "source": [
    "my_string = \"Gyan\""
   ]
  },
  {
   "cell_type": "code",
   "execution_count": 2,
   "id": "83548c05-bb9e-480f-800e-47854423138b",
   "metadata": {},
   "outputs": [],
   "source": [
    "my_string_upper = my_string.upper()"
   ]
  },
  {
   "cell_type": "code",
   "execution_count": 3,
   "id": "b4362d0f-dd35-4de2-86f3-c425601b1f46",
   "metadata": {},
   "outputs": [
    {
     "data": {
      "text/plain": [
       "'Gyan'"
      ]
     },
     "execution_count": 3,
     "metadata": {},
     "output_type": "execute_result"
    }
   ],
   "source": [
    "my_string"
   ]
  },
  {
   "cell_type": "code",
   "execution_count": 4,
   "id": "0e7700c6-6849-4ed8-b6f4-20aab3c48625",
   "metadata": {},
   "outputs": [
    {
     "data": {
      "text/plain": [
       "'GYAN'"
      ]
     },
     "execution_count": 4,
     "metadata": {},
     "output_type": "execute_result"
    }
   ],
   "source": [
    "my_string_upper"
   ]
  },
  {
   "cell_type": "code",
   "execution_count": 5,
   "id": "0b3cba1f-8ea1-46f0-83a9-1482bd249489",
   "metadata": {},
   "outputs": [
    {
     "name": "stdout",
     "output_type": "stream",
     "text": [
      "Help on built-in function split:\n",
      "\n",
      "split(sep=None, maxsplit=-1) method of builtins.str instance\n",
      "    Return a list of the substrings in the string, using sep as the separator string.\n",
      "    \n",
      "      sep\n",
      "        The separator used to split the string.\n",
      "    \n",
      "        When set to None (the default value), will split on any whitespace\n",
      "        character (including \\n \\r \\t \\f and spaces) and will discard\n",
      "        empty strings from the result.\n",
      "      maxsplit\n",
      "        Maximum number of splits (starting from the left).\n",
      "        -1 (the default value) means no limit.\n",
      "    \n",
      "    Note, str.split() is mainly useful for data that has been intentionally\n",
      "    delimited.  With natural text that includes punctuation, consider using\n",
      "    the regular expression module.\n",
      "\n"
     ]
    }
   ],
   "source": [
    "help(my_string.split)"
   ]
  },
  {
   "cell_type": "code",
   "execution_count": 6,
   "id": "98902c60-950e-4723-ae8a-4cebc1b48455",
   "metadata": {},
   "outputs": [],
   "source": [
    "def hello_world():\n",
    "    print(\"hello\")\n",
    "    print(\"world\")"
   ]
  },
  {
   "cell_type": "code",
   "execution_count": 7,
   "id": "a08a4af7-4021-4b51-b7b5-dc9a825c82fe",
   "metadata": {},
   "outputs": [
    {
     "data": {
      "text/plain": [
       "<function __main__.hello_world()>"
      ]
     },
     "execution_count": 7,
     "metadata": {},
     "output_type": "execute_result"
    }
   ],
   "source": [
    "hello_world"
   ]
  },
  {
   "cell_type": "code",
   "execution_count": 8,
   "id": "284c5416-c965-4d41-9eab-999904d04ac9",
   "metadata": {},
   "outputs": [
    {
     "name": "stdout",
     "output_type": "stream",
     "text": [
      "hello\n",
      "world\n"
     ]
    }
   ],
   "source": [
    "hello_world()"
   ]
  },
  {
   "cell_type": "markdown",
   "id": "b249cfad-fecd-4afe-a87f-0eaaa3590cdc",
   "metadata": {},
   "source": [
    "## input & return"
   ]
  },
  {
   "cell_type": "code",
   "execution_count": 9,
   "id": "6c40d8f5-e403-4882-843d-8f93f7597a1f",
   "metadata": {},
   "outputs": [],
   "source": [
    "def hello_programming(name):\n",
    "    print(\"hello\")\n",
    "    print(name)"
   ]
  },
  {
   "cell_type": "code",
   "execution_count": 10,
   "id": "f5579a43-aef3-4766-87c6-dc68dc3c55d5",
   "metadata": {},
   "outputs": [
    {
     "name": "stdout",
     "output_type": "stream",
     "text": [
      "hello\n",
      "python\n"
     ]
    }
   ],
   "source": [
    "hello_programming(\"python\")"
   ]
  },
  {
   "cell_type": "code",
   "execution_count": 11,
   "id": "95838427-13fb-487b-b4ca-4dd101937502",
   "metadata": {},
   "outputs": [
    {
     "name": "stdout",
     "output_type": "stream",
     "text": [
      "hello\n",
      "Java\n"
     ]
    }
   ],
   "source": [
    "hello_programming(\"Java\")"
   ]
  },
  {
   "cell_type": "code",
   "execution_count": 12,
   "id": "5b7753af-3009-4a0e-916b-4c2489fe6134",
   "metadata": {},
   "outputs": [],
   "source": [
    "def hello_programming(name = \"python\"):\n",
    "    print(\"hello\")\n",
    "    print(name)"
   ]
  },
  {
   "cell_type": "code",
   "execution_count": 13,
   "id": "81f4ca11-ff04-48c9-8572-f66d317612e4",
   "metadata": {},
   "outputs": [
    {
     "name": "stdout",
     "output_type": "stream",
     "text": [
      "hello\n",
      "python\n"
     ]
    }
   ],
   "source": [
    "hello_programming()"
   ]
  },
  {
   "cell_type": "code",
   "execution_count": 14,
   "id": "37e1d2dc-27fc-403d-b5d0-dc44bc641fd5",
   "metadata": {},
   "outputs": [
    {
     "name": "stdout",
     "output_type": "stream",
     "text": [
      "hello\n",
      "Java\n"
     ]
    }
   ],
   "source": [
    "hello_programming(\"Java\")"
   ]
  },
  {
   "cell_type": "code",
   "execution_count": 15,
   "id": "71c4073f-106d-4be4-927a-58dbfe92cd06",
   "metadata": {},
   "outputs": [],
   "source": [
    "def summ(number1,number2):\n",
    "    number3 = number1 + number2\n",
    "    print(number3)"
   ]
  },
  {
   "cell_type": "code",
   "execution_count": 16,
   "id": "cc4b1cf0-a029-45ab-9035-e59d34429649",
   "metadata": {},
   "outputs": [
    {
     "name": "stdout",
     "output_type": "stream",
     "text": [
      "8\n"
     ]
    }
   ],
   "source": [
    "summ(3,5)"
   ]
  },
  {
   "cell_type": "code",
   "execution_count": 17,
   "id": "fca452c7-a9be-4773-87e8-c2082d9beb40",
   "metadata": {},
   "outputs": [
    {
     "name": "stdout",
     "output_type": "stream",
     "text": [
      "-490\n"
     ]
    }
   ],
   "source": [
    "summ(10, -500)"
   ]
  },
  {
   "cell_type": "code",
   "execution_count": 18,
   "id": "7f4cbd80-d805-4314-8778-dfdd5b78df17",
   "metadata": {},
   "outputs": [],
   "source": [
    "def summation(num1,num2,num3):\n",
    "    return num1+num2+num3"
   ]
  },
  {
   "cell_type": "code",
   "execution_count": 19,
   "id": "1e6b26a1-877d-4656-add8-49f012f586f6",
   "metadata": {},
   "outputs": [
    {
     "data": {
      "text/plain": [
       "60"
      ]
     },
     "execution_count": 19,
     "metadata": {},
     "output_type": "execute_result"
    }
   ],
   "source": [
    "summation(10,20,30)"
   ]
  },
  {
   "cell_type": "code",
   "execution_count": 20,
   "id": "0e879bd3-7a6f-430d-81ba-68ce46345152",
   "metadata": {},
   "outputs": [],
   "source": [
    "my_result = summation(10,20,30)"
   ]
  },
  {
   "cell_type": "code",
   "execution_count": 21,
   "id": "91ea4365-afab-488e-b5ed-3ab009e4e9ac",
   "metadata": {},
   "outputs": [
    {
     "data": {
      "text/plain": [
       "60"
      ]
     },
     "execution_count": 21,
     "metadata": {},
     "output_type": "execute_result"
    }
   ],
   "source": [
    "my_result"
   ]
  },
  {
   "cell_type": "code",
   "execution_count": 22,
   "id": "5f01f30b-770e-40dc-99f5-8488bd8c1dbb",
   "metadata": {},
   "outputs": [
    {
     "name": "stdout",
     "output_type": "stream",
     "text": [
      "30\n"
     ]
    }
   ],
   "source": [
    "my_integer = summ(10,20)"
   ]
  },
  {
   "cell_type": "code",
   "execution_count": 23,
   "id": "1976cd7f-9bed-4a43-9f2d-d6eb4c2422b2",
   "metadata": {},
   "outputs": [],
   "source": [
    "my_integer"
   ]
  },
  {
   "cell_type": "code",
   "execution_count": 24,
   "id": "bda6de4b-1cd8-4801-8f95-f0d482c04246",
   "metadata": {},
   "outputs": [
    {
     "data": {
      "text/plain": [
       "NoneType"
      ]
     },
     "execution_count": 24,
     "metadata": {},
     "output_type": "execute_result"
    }
   ],
   "source": [
    "type(my_integer)"
   ]
  },
  {
   "cell_type": "code",
   "execution_count": 25,
   "id": "d6b5b2a2-6e1c-44d1-b561-70f83ae027ef",
   "metadata": {},
   "outputs": [],
   "source": [
    "def control_string(s):\n",
    "    if s[0] == \"m\":\n",
    "        print(\"mmm\")"
   ]
  },
  {
   "cell_type": "code",
   "execution_count": 26,
   "id": "4fb7cab0-a58f-4c72-a93d-935f1101482a",
   "metadata": {},
   "outputs": [],
   "source": [
    "control_string(\"paris\")"
   ]
  },
  {
   "cell_type": "code",
   "execution_count": 27,
   "id": "697ea530-31bd-4203-8e8b-627835768b62",
   "metadata": {},
   "outputs": [
    {
     "name": "stdout",
     "output_type": "stream",
     "text": [
      "mmm\n"
     ]
    }
   ],
   "source": [
    "control_string(\"metallica\")"
   ]
  },
  {
   "cell_type": "code",
   "execution_count": 28,
   "id": "62425710-203c-4055-8a6c-dcda7af5a5cf",
   "metadata": {},
   "outputs": [],
   "source": [
    "def control_string(s):\n",
    "    if s[0] == \"m\":\n",
    "        print(s.capitalize())"
   ]
  },
  {
   "cell_type": "code",
   "execution_count": 29,
   "id": "464a7188-1439-4632-9a6d-48a84624005e",
   "metadata": {},
   "outputs": [],
   "source": [
    "control_string(\"london\")"
   ]
  },
  {
   "cell_type": "code",
   "execution_count": 30,
   "id": "e4e64965-5a62-4d06-9eb2-41889bef462d",
   "metadata": {},
   "outputs": [
    {
     "name": "stdout",
     "output_type": "stream",
     "text": [
      "Mrunal\n"
     ]
    }
   ],
   "source": [
    "control_string(\"mrunal\")"
   ]
  },
  {
   "cell_type": "markdown",
   "id": "cd8774a2-ff6f-444b-816d-cacd2bca615b",
   "metadata": {},
   "source": [
    "## arbitrary arguments & key word arguments"
   ]
  },
  {
   "cell_type": "code",
   "execution_count": 31,
   "id": "e741120c-4ba1-480c-839f-c1d73bd9585d",
   "metadata": {},
   "outputs": [],
   "source": [
    "def summation_2(*args):\n",
    "    return sum(args)"
   ]
  },
  {
   "cell_type": "code",
   "execution_count": 32,
   "id": "e32fbded-4b4a-4c34-8ba7-e6d9df93aa75",
   "metadata": {},
   "outputs": [
    {
     "data": {
      "text/plain": [
       "60"
      ]
     },
     "execution_count": 32,
     "metadata": {},
     "output_type": "execute_result"
    }
   ],
   "source": [
    "summation_2(10,20,30)"
   ]
  },
  {
   "cell_type": "code",
   "execution_count": 7,
   "id": "3081d717-ed84-4439-80c7-a0c3ce5f2039",
   "metadata": {},
   "outputs": [],
   "source": [
    "def my_func(*args):\n",
    "    print (args)"
   ]
  },
  {
   "cell_type": "code",
   "execution_count": 8,
   "id": "bf775570-a312-4439-b066-c3d6e1822ef9",
   "metadata": {},
   "outputs": [
    {
     "name": "stdout",
     "output_type": "stream",
     "text": [
      "(10, 20, 30, 40, 50)\n"
     ]
    }
   ],
   "source": [
    "my_func(10,20,30,40,50)"
   ]
  },
  {
   "cell_type": "code",
   "execution_count": 9,
   "id": "deeabde4-1987-47a8-abc5-e3f8d631e46a",
   "metadata": {},
   "outputs": [
    {
     "name": "stdout",
     "output_type": "stream",
     "text": [
      "('a', 'b', 1, 2)\n"
     ]
    }
   ],
   "source": [
    "my_func(\"a\",\"b\",1,2)"
   ]
  },
  {
   "cell_type": "code",
   "execution_count": 4,
   "id": "e0b2416d-7fee-45be-98e2-cef04ffc928d",
   "metadata": {},
   "outputs": [],
   "source": [
    "# def my_func_2(*gyan):\n",
    "#    print(gyan)"
   ]
  },
  {
   "cell_type": "code",
   "execution_count": 5,
   "id": "b4239a05-9e50-4581-97c3-c34371a8b5ff",
   "metadata": {},
   "outputs": [],
   "source": [
    "#my_func_2(\"gy\",\"an\",1,2)"
   ]
  },
  {
   "cell_type": "code",
   "execution_count": 7,
   "id": "54802d12-621d-414c-b82e-f44f9c1f2c9d",
   "metadata": {},
   "outputs": [],
   "source": [
    "def example_func(**kwargs):\n",
    "    print(kwargs)"
   ]
  },
  {
   "cell_type": "code",
   "execution_count": 8,
   "id": "c8e8578d-754b-4c98-8350-a81d38d32171",
   "metadata": {},
   "outputs": [
    {
     "name": "stdout",
     "output_type": "stream",
     "text": [
      "{'run': 100, 'swim': 200, 'basketball': 300}\n"
     ]
    }
   ],
   "source": [
    "example_func(run=100,swim=200,basketball=300)"
   ]
  },
  {
   "cell_type": "code",
   "execution_count": 9,
   "id": "9b1830b2-2a26-4232-b4d5-1e4c17f98ce2",
   "metadata": {},
   "outputs": [
    {
     "name": "stdout",
     "output_type": "stream",
     "text": [
      "{'a': 1, 'b': 2}\n"
     ]
    }
   ],
   "source": [
    "example_func(a=1,b=2)"
   ]
  },
  {
   "cell_type": "code",
   "execution_count": 10,
   "id": "24eb05a5-0069-49c1-9029-7b2881cb9648",
   "metadata": {},
   "outputs": [],
   "source": [
    "def keyword_func(**kwargs):\n",
    "    if \"Metallica\" in kwargs:\n",
    "        print(\"Heavy Metalll!\")\n",
    "    else:\n",
    "        print(\"Rock is dead\")"
   ]
  },
  {
   "cell_type": "code",
   "execution_count": 15,
   "id": "8ffa4c01-d62e-4df6-8a0d-66ed67cebf3d",
   "metadata": {},
   "outputs": [
    {
     "name": "stdout",
     "output_type": "stream",
     "text": [
      "Heavy Metalll!\n"
     ]
    }
   ],
   "source": [
    "keyword_func(Metallica=10,Madonna=5,Muslum=4)"
   ]
  },
  {
   "cell_type": "code",
   "execution_count": 16,
   "id": "b0b86ebd-d5f2-413b-a422-4e6cd8720a88",
   "metadata": {},
   "outputs": [
    {
     "name": "stdout",
     "output_type": "stream",
     "text": [
      "Rock is dead\n"
     ]
    }
   ],
   "source": [
    "keyword_func(Madona=8,Mickey=4)"
   ]
  },
  {
   "cell_type": "code",
   "execution_count": null,
   "id": "a989b3d2-3271-43bf-980e-e8a92c90f3d4",
   "metadata": {},
   "outputs": [],
   "source": []
  }
 ],
 "metadata": {
  "kernelspec": {
   "display_name": "Python 3 (ipykernel)",
   "language": "python",
   "name": "python3"
  },
  "language_info": {
   "codemirror_mode": {
    "name": "ipython",
    "version": 3
   },
   "file_extension": ".py",
   "mimetype": "text/x-python",
   "name": "python",
   "nbconvert_exporter": "python",
   "pygments_lexer": "ipython3",
   "version": "3.11.7"
  }
 },
 "nbformat": 4,
 "nbformat_minor": 5
}
