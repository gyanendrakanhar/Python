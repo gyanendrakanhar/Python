{
 "cells": [
  {
   "cell_type": "code",
   "execution_count": 1,
   "id": "3e845fd4-8516-4c91-823b-bc71bca21aff",
   "metadata": {},
   "outputs": [],
   "source": [
    "my_string = \"hello world\""
   ]
  },
  {
   "cell_type": "code",
   "execution_count": 2,
   "id": "1b48d071-483b-49c3-aa7d-7aa30c51de1e",
   "metadata": {},
   "outputs": [
    {
     "data": {
      "text/plain": [
       "'hello world'"
      ]
     },
     "execution_count": 2,
     "metadata": {},
     "output_type": "execute_result"
    }
   ],
   "source": [
    "my_string"
   ]
  },
  {
   "cell_type": "markdown",
   "id": "9220db8b-1565-4c99-9eab-75ba83a470bf",
   "metadata": {},
   "source": [
    "##indexing"
   ]
  },
  {
   "cell_type": "code",
   "execution_count": 3,
   "id": "d84be6eb-1379-415a-a98c-19727d805f0f",
   "metadata": {},
   "outputs": [
    {
     "data": {
      "text/plain": [
       "'h'"
      ]
     },
     "execution_count": 3,
     "metadata": {},
     "output_type": "execute_result"
    }
   ],
   "source": [
    "my_string[0]"
   ]
  },
  {
   "cell_type": "code",
   "execution_count": 4,
   "id": "67c43388-7025-4592-8169-a07c685b800f",
   "metadata": {},
   "outputs": [
    {
     "data": {
      "text/plain": [
       "'o'"
      ]
     },
     "execution_count": 4,
     "metadata": {},
     "output_type": "execute_result"
    }
   ],
   "source": [
    "my_string[4]"
   ]
  },
  {
   "cell_type": "code",
   "execution_count": 5,
   "id": "b0a4b787-6503-438c-8ee7-4086d8f226cc",
   "metadata": {},
   "outputs": [
    {
     "data": {
      "text/plain": [
       "'l'"
      ]
     },
     "execution_count": 5,
     "metadata": {},
     "output_type": "execute_result"
    }
   ],
   "source": [
    "my_string[-2]"
   ]
  },
  {
   "cell_type": "code",
   "execution_count": 6,
   "id": "e5cba8ca-c4f2-436d-8550-b90feeb30b5a",
   "metadata": {},
   "outputs": [],
   "source": [
    "my_string_2 = \"1234567890\""
   ]
  },
  {
   "cell_type": "code",
   "execution_count": 7,
   "id": "ebd0fb1e-148d-4695-ad44-28bad55c9339",
   "metadata": {},
   "outputs": [
    {
     "data": {
      "text/plain": [
       "'1'"
      ]
     },
     "execution_count": 7,
     "metadata": {},
     "output_type": "execute_result"
    }
   ],
   "source": [
    "my_string_2[0]"
   ]
  },
  {
   "cell_type": "code",
   "execution_count": 8,
   "id": "70f2b35c-7ff0-4774-b778-b73a0d9ad267",
   "metadata": {},
   "outputs": [
    {
     "data": {
      "text/plain": [
       "'34567890'"
      ]
     },
     "execution_count": 8,
     "metadata": {},
     "output_type": "execute_result"
    }
   ],
   "source": [
    "my_string_2[2:]"
   ]
  },
  {
   "cell_type": "markdown",
   "id": "f60547c2-0a0f-433d-8663-63ea60c4ce73",
   "metadata": {},
   "source": [
    "##Slicing"
   ]
  },
  {
   "cell_type": "code",
   "execution_count": 9,
   "id": "ba590081-f53d-43ed-b3ff-31ce299e3fb1",
   "metadata": {},
   "outputs": [
    {
     "data": {
      "text/plain": [
       "'567890'"
      ]
     },
     "execution_count": 9,
     "metadata": {},
     "output_type": "execute_result"
    }
   ],
   "source": [
    "my_string_2[4:]"
   ]
  },
  {
   "cell_type": "code",
   "execution_count": 10,
   "id": "1b39b8a8-3fc0-4204-a864-1cfda723587c",
   "metadata": {},
   "outputs": [
    {
     "data": {
      "text/plain": [
       "'12'"
      ]
     },
     "execution_count": 10,
     "metadata": {},
     "output_type": "execute_result"
    }
   ],
   "source": [
    "my_string_2[:2]"
   ]
  },
  {
   "cell_type": "markdown",
   "id": "893e204d-af95-4031-b721-ee33c63567f7",
   "metadata": {},
   "source": [
    "##stopping index"
   ]
  },
  {
   "cell_type": "code",
   "execution_count": 11,
   "id": "80403c4e-935c-47eb-989b-63bfa802250f",
   "metadata": {},
   "outputs": [
    {
     "data": {
      "text/plain": [
       "'1234'"
      ]
     },
     "execution_count": 11,
     "metadata": {},
     "output_type": "execute_result"
    }
   ],
   "source": [
    "my_string_2[:4]"
   ]
  },
  {
   "cell_type": "code",
   "execution_count": 12,
   "id": "f276b3a2-221d-41f7-9404-c9ab8d4e20c9",
   "metadata": {},
   "outputs": [
    {
     "data": {
      "text/plain": [
       "'34'"
      ]
     },
     "execution_count": 12,
     "metadata": {},
     "output_type": "execute_result"
    }
   ],
   "source": [
    "my_string_2[2:4]"
   ]
  },
  {
   "cell_type": "code",
   "execution_count": 13,
   "id": "64d271d6-2072-4d20-9521-8106d7456b32",
   "metadata": {},
   "outputs": [
    {
     "data": {
      "text/plain": [
       "'678'"
      ]
     },
     "execution_count": 13,
     "metadata": {},
     "output_type": "execute_result"
    }
   ],
   "source": [
    "my_string_2[5:8]"
   ]
  },
  {
   "cell_type": "markdown",
   "id": "2ac2868c-cf52-4746-a9ac-43931149357d",
   "metadata": {},
   "source": [
    "##step size"
   ]
  },
  {
   "cell_type": "code",
   "execution_count": 14,
   "id": "9634bde7-4f32-4e6a-bd87-a4a3c5942370",
   "metadata": {},
   "outputs": [
    {
     "data": {
      "text/plain": [
       "'1234567890'"
      ]
     },
     "execution_count": 14,
     "metadata": {},
     "output_type": "execute_result"
    }
   ],
   "source": [
    "my_string_2[::]"
   ]
  },
  {
   "cell_type": "code",
   "execution_count": 15,
   "id": "403fefab-abb1-4caa-8331-fc87cf9ce729",
   "metadata": {},
   "outputs": [
    {
     "data": {
      "text/plain": [
       "'1470'"
      ]
     },
     "execution_count": 15,
     "metadata": {},
     "output_type": "execute_result"
    }
   ],
   "source": [
    "my_string_2[::3]"
   ]
  },
  {
   "cell_type": "code",
   "execution_count": 16,
   "id": "450fd3e3-8193-45b0-99ea-80dc58c6c26a",
   "metadata": {},
   "outputs": [
    {
     "data": {
      "text/plain": [
       "'3'"
      ]
     },
     "execution_count": 16,
     "metadata": {},
     "output_type": "execute_result"
    }
   ],
   "source": [
    "my_string_2[2:4:2]"
   ]
  },
  {
   "cell_type": "code",
   "execution_count": 17,
   "id": "ac5e7c61-7b5c-4ae3-ba40-7717c65b316e",
   "metadata": {},
   "outputs": [
    {
     "data": {
      "text/plain": [
       "'0987654321'"
      ]
     },
     "execution_count": 17,
     "metadata": {},
     "output_type": "execute_result"
    }
   ],
   "source": [
    "my_string_2[::-1]"
   ]
  },
  {
   "cell_type": "code",
   "execution_count": 19,
   "id": "e75e8b53-b797-420a-8c17-d13007f532ed",
   "metadata": {},
   "outputs": [
    {
     "data": {
      "text/plain": [
       "'0741'"
      ]
     },
     "execution_count": 19,
     "metadata": {},
     "output_type": "execute_result"
    }
   ],
   "source": [
    "my_string_2[::-3]"
   ]
  },
  {
   "cell_type": "markdown",
   "id": "db144cac-8606-4a77-8798-d1b4dc1db7a2",
   "metadata": {},
   "source": [
    "String Methods"
   ]
  },
  {
   "cell_type": "code",
   "execution_count": 23,
   "id": "28cc68a6-67d5-47e8-8b06-daccd6954a35",
   "metadata": {},
   "outputs": [],
   "source": [
    "my_name = \"gyan\""
   ]
  },
  {
   "cell_type": "code",
   "execution_count": 26,
   "id": "8a723d7c-5ce7-4bad-a919-9cc85559f105",
   "metadata": {},
   "outputs": [],
   "source": [
    "my_name_capitalized = my_name.capitalize()"
   ]
  },
  {
   "cell_type": "code",
   "execution_count": 27,
   "id": "9051acf5-95cd-4f20-aaa0-366dbc53667b",
   "metadata": {},
   "outputs": [
    {
     "data": {
      "text/plain": [
       "'gyan'"
      ]
     },
     "execution_count": 27,
     "metadata": {},
     "output_type": "execute_result"
    }
   ],
   "source": [
    "my_name"
   ]
  },
  {
   "cell_type": "code",
   "execution_count": 28,
   "id": "69f523a9-44a2-4554-b743-7575f4710d9f",
   "metadata": {},
   "outputs": [
    {
     "data": {
      "text/plain": [
       "'Gyan'"
      ]
     },
     "execution_count": 28,
     "metadata": {},
     "output_type": "execute_result"
    }
   ],
   "source": [
    "my_name_capitalized"
   ]
  },
  {
   "cell_type": "code",
   "execution_count": 29,
   "id": "43dd00bf-74d2-4fab-9264-8dfbb5fc494a",
   "metadata": {},
   "outputs": [],
   "source": [
    "my_name = \" Gyan Kumar \""
   ]
  },
  {
   "cell_type": "code",
   "execution_count": 30,
   "id": "0ab5448f-9b9c-4fdf-82d0-0447415bec23",
   "metadata": {},
   "outputs": [
    {
     "data": {
      "text/plain": [
       "['Gyan', 'Kumar']"
      ]
     },
     "execution_count": 30,
     "metadata": {},
     "output_type": "execute_result"
    }
   ],
   "source": [
    "my_name.split()"
   ]
  },
  {
   "cell_type": "code",
   "execution_count": 31,
   "id": "e74ae86f-8a7e-4b30-b878-202aaaece771",
   "metadata": {},
   "outputs": [],
   "source": [
    "my_name_split = my_name.split()"
   ]
  },
  {
   "cell_type": "code",
   "execution_count": 32,
   "id": "a32aada4-28b7-4c2e-8f87-00b82f1ea163",
   "metadata": {},
   "outputs": [
    {
     "data": {
      "text/plain": [
       "['Gyan', 'Kumar']"
      ]
     },
     "execution_count": 32,
     "metadata": {},
     "output_type": "execute_result"
    }
   ],
   "source": [
    "my_name_split"
   ]
  },
  {
   "cell_type": "code",
   "execution_count": 33,
   "id": "34491712-c03e-4f01-9285-2d910bfc88d6",
   "metadata": {},
   "outputs": [
    {
     "data": {
      "text/plain": [
       "'Kumar'"
      ]
     },
     "execution_count": 33,
     "metadata": {},
     "output_type": "execute_result"
    }
   ],
   "source": [
    "my_name_split[1]"
   ]
  },
  {
   "cell_type": "code",
   "execution_count": 34,
   "id": "9dd7bc73-fa34-4a4f-a108-1c057d8da7de",
   "metadata": {},
   "outputs": [],
   "source": [
    "my_number = 123"
   ]
  },
  {
   "cell_type": "code",
   "execution_count": 35,
   "id": "b1bb146a-1c2e-4b77-8455-2aaea58cd89e",
   "metadata": {},
   "outputs": [
    {
     "data": {
      "text/plain": [
       "' GYAN KUMAR '"
      ]
     },
     "execution_count": 35,
     "metadata": {},
     "output_type": "execute_result"
    }
   ],
   "source": [
    "my_name.upper()"
   ]
  },
  {
   "cell_type": "code",
   "execution_count": 36,
   "id": "48bc85d3-df01-4589-92d4-73ea45528f74",
   "metadata": {},
   "outputs": [
    {
     "data": {
      "text/plain": [
       "'GyanGyanGyanGyanGyanGyanGyanGyanGyanGyan'"
      ]
     },
     "execution_count": 36,
     "metadata": {},
     "output_type": "execute_result"
    }
   ],
   "source": [
    "\"Gyan\" * 10"
   ]
  },
  {
   "cell_type": "code",
   "execution_count": 37,
   "id": "0ad64650-5c31-484a-a009-9497a41940dc",
   "metadata": {},
   "outputs": [
    {
     "ename": "TypeError",
     "evalue": "can only concatenate str (not \"int\") to str",
     "output_type": "error",
     "traceback": [
      "\u001b[1;31m---------------------------------------------------------------------------\u001b[0m",
      "\u001b[1;31mTypeError\u001b[0m                                 Traceback (most recent call last)",
      "Cell \u001b[1;32mIn[37], line 1\u001b[0m\n\u001b[1;32m----> 1\u001b[0m \u001b[38;5;124m\"\u001b[39m\u001b[38;5;124mGyan\u001b[39m\u001b[38;5;124m\"\u001b[39m \u001b[38;5;241m+\u001b[39m \u001b[38;5;241m5\u001b[39m\n",
      "\u001b[1;31mTypeError\u001b[0m: can only concatenate str (not \"int\") to str"
     ]
    }
   ],
   "source": [
    "\"Gyan\" + 5"
   ]
  },
  {
   "cell_type": "code",
   "execution_count": 38,
   "id": "f800fa99-64d2-4283-8d7b-09fbe2ff7f69",
   "metadata": {},
   "outputs": [
    {
     "data": {
      "text/plain": [
       "' Gyan Kumar '"
      ]
     },
     "execution_count": 38,
     "metadata": {},
     "output_type": "execute_result"
    }
   ],
   "source": [
    "my_name"
   ]
  },
  {
   "cell_type": "code",
   "execution_count": 51,
   "id": "e22bf280-5737-40e9-9e5a-b5303326f3bf",
   "metadata": {},
   "outputs": [],
   "source": [
    "my_name = \"Gyan\""
   ]
  },
  {
   "cell_type": "code",
   "execution_count": 48,
   "id": "2a84b717-9171-4839-b0fc-3236fbde7dbf",
   "metadata": {},
   "outputs": [],
   "source": [
    "my_surname = \"Kanhar\""
   ]
  },
  {
   "cell_type": "code",
   "execution_count": 52,
   "id": "16824582-f6b4-4c1f-a76c-cb2a1018fa6d",
   "metadata": {},
   "outputs": [],
   "source": [
    "my_full_name = my_name + \" \" + my_surname"
   ]
  },
  {
   "cell_type": "code",
   "execution_count": 53,
   "id": "a4bc1d5c-fb67-4f9a-9df5-058ad32a4325",
   "metadata": {},
   "outputs": [
    {
     "data": {
      "text/plain": [
       "'Gyan Kanhar'"
      ]
     },
     "execution_count": 53,
     "metadata": {},
     "output_type": "execute_result"
    }
   ],
   "source": [
    "my_full_name"
   ]
  },
  {
   "cell_type": "code",
   "execution_count": 54,
   "id": "bb845a52-7bff-4d32-a447-c6264ec552c9",
   "metadata": {},
   "outputs": [
    {
     "data": {
      "text/plain": [
       "'Gyanakumar'"
      ]
     },
     "execution_count": 54,
     "metadata": {},
     "output_type": "execute_result"
    }
   ],
   "source": [
    "\"Gyana\" + \"kumar\""
   ]
  },
  {
   "cell_type": "code",
   "execution_count": 56,
   "id": "4b1b6f3a-a8e0-4c1d-b61c-9151b45d4aa9",
   "metadata": {},
   "outputs": [
    {
     "ename": "TypeError",
     "evalue": "unsupported operand type(s) for /: 'str' and 'int'",
     "output_type": "error",
     "traceback": [
      "\u001b[1;31m---------------------------------------------------------------------------\u001b[0m",
      "\u001b[1;31mTypeError\u001b[0m                                 Traceback (most recent call last)",
      "Cell \u001b[1;32mIn[56], line 1\u001b[0m\n\u001b[1;32m----> 1\u001b[0m \u001b[38;5;124m\"\u001b[39m\u001b[38;5;124mGyan\u001b[39m\u001b[38;5;124m\"\u001b[39m \u001b[38;5;241m/\u001b[39m \u001b[38;5;241m3\u001b[39m\n",
      "\u001b[1;31mTypeError\u001b[0m: unsupported operand type(s) for /: 'str' and 'int'"
     ]
    }
   ],
   "source": [
    "\"Gyan\" / 3"
   ]
  },
  {
   "cell_type": "code",
   "execution_count": null,
   "id": "337d986d-dd87-48b8-9983-c9a9fbd4d3fd",
   "metadata": {},
   "outputs": [],
   "source": []
  }
 ],
 "metadata": {
  "kernelspec": {
   "display_name": "Python 3 (ipykernel)",
   "language": "python",
   "name": "python3"
  },
  "language_info": {
   "codemirror_mode": {
    "name": "ipython",
    "version": 3
   },
   "file_extension": ".py",
   "mimetype": "text/x-python",
   "name": "python",
   "nbconvert_exporter": "python",
   "pygments_lexer": "ipython3",
   "version": "3.11.7"
  }
 },
 "nbformat": 4,
 "nbformat_minor": 5
}
