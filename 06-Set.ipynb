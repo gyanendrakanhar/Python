{
 "cells": [
  {
   "cell_type": "code",
   "execution_count": 1,
   "id": "126e0626-ddcc-4bd1-a77e-73c2f6450a5c",
   "metadata": {},
   "outputs": [],
   "source": [
    "my_list = [1,2,3,1]"
   ]
  },
  {
   "cell_type": "code",
   "execution_count": 2,
   "id": "5aab3262-e95a-44e7-b213-cd2f8aadf53e",
   "metadata": {},
   "outputs": [
    {
     "data": {
      "text/plain": [
       "[1, 2, 3, 1]"
      ]
     },
     "execution_count": 2,
     "metadata": {},
     "output_type": "execute_result"
    }
   ],
   "source": [
    "my_list"
   ]
  },
  {
   "cell_type": "markdown",
   "id": "21118620-9625-4e21-b221-3474c0ea7a09",
   "metadata": {},
   "source": [
    "##casting"
   ]
  },
  {
   "cell_type": "code",
   "execution_count": 3,
   "id": "d36b0bb0-dbfe-401c-8834-dc920cdc4f41",
   "metadata": {},
   "outputs": [],
   "source": [
    "my_set = set(my_list)"
   ]
  },
  {
   "cell_type": "code",
   "execution_count": 4,
   "id": "02c153bb-2b4e-4eb3-a71c-c2095a2939ed",
   "metadata": {},
   "outputs": [
    {
     "data": {
      "text/plain": [
       "{1, 2, 3}"
      ]
     },
     "execution_count": 4,
     "metadata": {},
     "output_type": "execute_result"
    }
   ],
   "source": [
    "my_set"
   ]
  },
  {
   "cell_type": "code",
   "execution_count": 5,
   "id": "665c6404-8ff1-4e11-b24f-badc34d6cf6c",
   "metadata": {},
   "outputs": [],
   "source": [
    "my_set_2 = {1,2,3,1}"
   ]
  },
  {
   "cell_type": "code",
   "execution_count": 6,
   "id": "e78907f2-9086-4e00-a2cd-3d5360a5ac65",
   "metadata": {},
   "outputs": [
    {
     "data": {
      "text/plain": [
       "{1, 2, 3}"
      ]
     },
     "execution_count": 6,
     "metadata": {},
     "output_type": "execute_result"
    }
   ],
   "source": [
    "my_set_2"
   ]
  },
  {
   "cell_type": "code",
   "execution_count": 7,
   "id": "0972a81a-c7c1-41a5-9c67-0d8e230db13f",
   "metadata": {},
   "outputs": [
    {
     "data": {
      "text/plain": [
       "set"
      ]
     },
     "execution_count": 7,
     "metadata": {},
     "output_type": "execute_result"
    }
   ],
   "source": [
    "type(my_set_2)"
   ]
  },
  {
   "cell_type": "code",
   "execution_count": 9,
   "id": "e92534e2-1864-44d7-b6fe-0f26e6266010",
   "metadata": {},
   "outputs": [],
   "source": [
    "my_set_3 = {\"a\",\"b\",\"a\"}"
   ]
  },
  {
   "cell_type": "code",
   "execution_count": 10,
   "id": "dc092c38-c0a4-4e98-ac2c-1d65730ac2ee",
   "metadata": {},
   "outputs": [
    {
     "data": {
      "text/plain": [
       "{'a', 'b'}"
      ]
     },
     "execution_count": 10,
     "metadata": {},
     "output_type": "execute_result"
    }
   ],
   "source": [
    "my_set_3"
   ]
  },
  {
   "cell_type": "code",
   "execution_count": 11,
   "id": "4398eab9-6d93-48ce-b519-711931200c5b",
   "metadata": {},
   "outputs": [
    {
     "data": {
      "text/plain": [
       "[1, 2, 3, 1]"
      ]
     },
     "execution_count": 11,
     "metadata": {},
     "output_type": "execute_result"
    }
   ],
   "source": [
    "my_list"
   ]
  },
  {
   "cell_type": "code",
   "execution_count": 12,
   "id": "de14e69b-ef99-4c34-8504-9827a52e6f4c",
   "metadata": {},
   "outputs": [],
   "source": [
    "my_list = []"
   ]
  },
  {
   "cell_type": "code",
   "execution_count": 13,
   "id": "c121201e-f73c-4ad8-be85-4cfc84f7aad6",
   "metadata": {},
   "outputs": [
    {
     "data": {
      "text/plain": [
       "list"
      ]
     },
     "execution_count": 13,
     "metadata": {},
     "output_type": "execute_result"
    }
   ],
   "source": [
    "type(my_list)"
   ]
  },
  {
   "cell_type": "code",
   "execution_count": 14,
   "id": "338669a7-1284-4931-b09c-60b0f1066ba3",
   "metadata": {},
   "outputs": [
    {
     "data": {
      "text/plain": [
       "[]"
      ]
     },
     "execution_count": 14,
     "metadata": {},
     "output_type": "execute_result"
    }
   ],
   "source": [
    "my_list"
   ]
  },
  {
   "cell_type": "code",
   "execution_count": 15,
   "id": "b50798ef-d986-4d45-b665-213fa00d319f",
   "metadata": {},
   "outputs": [],
   "source": [
    "my_list.append(1)"
   ]
  },
  {
   "cell_type": "code",
   "execution_count": 16,
   "id": "bae9770c-d89b-4fd4-a601-ca50a5144d57",
   "metadata": {},
   "outputs": [
    {
     "data": {
      "text/plain": [
       "[1]"
      ]
     },
     "execution_count": 16,
     "metadata": {},
     "output_type": "execute_result"
    }
   ],
   "source": [
    "my_list"
   ]
  },
  {
   "cell_type": "code",
   "execution_count": 17,
   "id": "40027503-9b9b-400f-8401-301c39585de4",
   "metadata": {},
   "outputs": [],
   "source": [
    "my_set_4 = {}"
   ]
  },
  {
   "cell_type": "code",
   "execution_count": 18,
   "id": "c328659f-cc04-4bfb-a942-78733418395e",
   "metadata": {},
   "outputs": [
    {
     "data": {
      "text/plain": [
       "{}"
      ]
     },
     "execution_count": 18,
     "metadata": {},
     "output_type": "execute_result"
    }
   ],
   "source": [
    "my_set_4"
   ]
  },
  {
   "cell_type": "code",
   "execution_count": 19,
   "id": "10c5be9b-4352-44f2-8cd7-805957907110",
   "metadata": {},
   "outputs": [
    {
     "data": {
      "text/plain": [
       "dict"
      ]
     },
     "execution_count": 19,
     "metadata": {},
     "output_type": "execute_result"
    }
   ],
   "source": [
    "type(my_set_4)"
   ]
  },
  {
   "cell_type": "code",
   "execution_count": 20,
   "id": "56529747-a484-49c3-93c7-8fb8f3ef46cd",
   "metadata": {},
   "outputs": [],
   "source": [
    "my_set_4[\"key1\"] = 1"
   ]
  },
  {
   "cell_type": "code",
   "execution_count": 21,
   "id": "55176eb7-0f9c-4eec-89dc-9829f77ef5f1",
   "metadata": {},
   "outputs": [
    {
     "data": {
      "text/plain": [
       "{'key1': 1}"
      ]
     },
     "execution_count": 21,
     "metadata": {},
     "output_type": "execute_result"
    }
   ],
   "source": [
    "my_set_4"
   ]
  },
  {
   "cell_type": "code",
   "execution_count": 22,
   "id": "780a3b9e-5c46-46e1-88d6-fe5e3a322ceb",
   "metadata": {},
   "outputs": [],
   "source": [
    "my_set_5 = set()"
   ]
  },
  {
   "cell_type": "code",
   "execution_count": 23,
   "id": "758930c1-4a2c-48af-93e9-f7ec9c511e4a",
   "metadata": {},
   "outputs": [
    {
     "data": {
      "text/plain": [
       "set()"
      ]
     },
     "execution_count": 23,
     "metadata": {},
     "output_type": "execute_result"
    }
   ],
   "source": [
    "my_set_5"
   ]
  },
  {
   "cell_type": "code",
   "execution_count": 24,
   "id": "f5e82f8d-8149-401f-962e-d3857d58fdff",
   "metadata": {},
   "outputs": [
    {
     "data": {
      "text/plain": [
       "set"
      ]
     },
     "execution_count": 24,
     "metadata": {},
     "output_type": "execute_result"
    }
   ],
   "source": [
    "type(my_set_5)"
   ]
  },
  {
   "cell_type": "code",
   "execution_count": 25,
   "id": "d55c9706-2991-4ca8-8cf0-8200e5387ba0",
   "metadata": {},
   "outputs": [],
   "source": [
    "my_set_5.add(1)"
   ]
  },
  {
   "cell_type": "code",
   "execution_count": 26,
   "id": "a35573d1-f3f5-4ba5-858f-9676b00dc789",
   "metadata": {},
   "outputs": [],
   "source": [
    "my_set_5.add(2)"
   ]
  },
  {
   "cell_type": "code",
   "execution_count": 27,
   "id": "5690c5af-2869-4ca6-8d0b-707e566c5e55",
   "metadata": {},
   "outputs": [],
   "source": [
    "my_set_5.add(1)"
   ]
  },
  {
   "cell_type": "code",
   "execution_count": 28,
   "id": "978cb986-c888-4a5b-b24c-11270d536067",
   "metadata": {},
   "outputs": [
    {
     "data": {
      "text/plain": [
       "{1, 2}"
      ]
     },
     "execution_count": 28,
     "metadata": {},
     "output_type": "execute_result"
    }
   ],
   "source": [
    "my_set_5"
   ]
  },
  {
   "cell_type": "code",
   "execution_count": 29,
   "id": "994b8041-1acc-4ed4-8570-388999269b5e",
   "metadata": {},
   "outputs": [],
   "source": [
    "my_dict = dict()"
   ]
  },
  {
   "cell_type": "code",
   "execution_count": 30,
   "id": "db288f6f-1863-4783-8cb6-b416efb0657a",
   "metadata": {},
   "outputs": [],
   "source": [
    "my_dict[\"key1\"] = 1"
   ]
  },
  {
   "cell_type": "code",
   "execution_count": 31,
   "id": "c9edc500-7ab3-475b-ac19-19ccf3f56627",
   "metadata": {},
   "outputs": [
    {
     "data": {
      "text/plain": [
       "{'key1': 1}"
      ]
     },
     "execution_count": 31,
     "metadata": {},
     "output_type": "execute_result"
    }
   ],
   "source": [
    "my_dict"
   ]
  },
  {
   "cell_type": "code",
   "execution_count": 36,
   "id": "499c4abb-f76f-48fd-98d3-a28f88e970c5",
   "metadata": {},
   "outputs": [],
   "source": [
    "my_list_6 = list()"
   ]
  },
  {
   "cell_type": "code",
   "execution_count": 38,
   "id": "604f67bd-6e10-40ec-94db-d3231d52ecad",
   "metadata": {},
   "outputs": [
    {
     "data": {
      "text/plain": [
       "list"
      ]
     },
     "execution_count": 38,
     "metadata": {},
     "output_type": "execute_result"
    }
   ],
   "source": [
    "type(my_list_6)"
   ]
  },
  {
   "cell_type": "code",
   "execution_count": 39,
   "id": "1e598609-9cdc-4706-9a88-61645db8462d",
   "metadata": {},
   "outputs": [
    {
     "data": {
      "text/plain": [
       "[]"
      ]
     },
     "execution_count": 39,
     "metadata": {},
     "output_type": "execute_result"
    }
   ],
   "source": [
    "my_list_6"
   ]
  },
  {
   "cell_type": "code",
   "execution_count": 40,
   "id": "d4b59cbc-f943-4ab2-a812-4d20abbb72d2",
   "metadata": {},
   "outputs": [],
   "source": [
    "my_list_6.append(\"a\")"
   ]
  },
  {
   "cell_type": "code",
   "execution_count": 41,
   "id": "1d547eca-69dd-4598-ab39-90b149eed793",
   "metadata": {},
   "outputs": [],
   "source": [
    "my_list_6.append(2)"
   ]
  },
  {
   "cell_type": "code",
   "execution_count": 42,
   "id": "e8b9336e-a951-4826-9e61-adca50755800",
   "metadata": {},
   "outputs": [],
   "source": [
    "my_list_6.append([1,2])"
   ]
  },
  {
   "cell_type": "code",
   "execution_count": 43,
   "id": "204a5a99-31fe-44a6-8181-6bc2e324e8a9",
   "metadata": {},
   "outputs": [
    {
     "data": {
      "text/plain": [
       "['a', 2, [1, 2]]"
      ]
     },
     "execution_count": 43,
     "metadata": {},
     "output_type": "execute_result"
    }
   ],
   "source": [
    "my_list_6"
   ]
  },
  {
   "cell_type": "code",
   "execution_count": null,
   "id": "55500316-6a5d-4b82-9511-36f2c68735ca",
   "metadata": {},
   "outputs": [],
   "source": []
  }
 ],
 "metadata": {
  "kernelspec": {
   "display_name": "Python 3 (ipykernel)",
   "language": "python",
   "name": "python3"
  },
  "language_info": {
   "codemirror_mode": {
    "name": "ipython",
    "version": 3
   },
   "file_extension": ".py",
   "mimetype": "text/x-python",
   "name": "python",
   "nbconvert_exporter": "python",
   "pygments_lexer": "ipython3",
   "version": "3.11.7"
  }
 },
 "nbformat": 4,
 "nbformat_minor": 5
}
