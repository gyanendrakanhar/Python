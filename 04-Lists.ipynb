{
 "cells": [
  {
   "cell_type": "code",
   "execution_count": 1,
   "id": "4bfce383-fc10-4fa3-8ca1-563a0d720f35",
   "metadata": {},
   "outputs": [],
   "source": [
    "my_string = \"Gyan\""
   ]
  },
  {
   "cell_type": "code",
   "execution_count": 2,
   "id": "69e3863a-d22b-4947-bbb9-0121075d93c0",
   "metadata": {},
   "outputs": [
    {
     "data": {
      "text/plain": [
       "'G'"
      ]
     },
     "execution_count": 2,
     "metadata": {},
     "output_type": "execute_result"
    }
   ],
   "source": [
    "my_string[0]"
   ]
  },
  {
   "cell_type": "code",
   "execution_count": 3,
   "id": "9047037e-82bd-4b98-99c7-2b3cb2ed93cc",
   "metadata": {},
   "outputs": [
    {
     "data": {
      "text/plain": [
       "'y'"
      ]
     },
     "execution_count": 3,
     "metadata": {},
     "output_type": "execute_result"
    }
   ],
   "source": [
    "my_string[1]"
   ]
  },
  {
   "cell_type": "markdown",
   "id": "80579980-04b7-4857-856d-e3e65c549edd",
   "metadata": {},
   "source": [
    "##immutability"
   ]
  },
  {
   "cell_type": "code",
   "execution_count": 4,
   "id": "709dd814-974a-4b90-ac31-1b75c7b6b661",
   "metadata": {},
   "outputs": [],
   "source": [
    "#my_string[0] = \"B\""
   ]
  },
  {
   "cell_type": "code",
   "execution_count": 5,
   "id": "6360cdca-e467-47fe-9115-565ddfc66736",
   "metadata": {},
   "outputs": [],
   "source": [
    "my_list = [1,2,3]"
   ]
  },
  {
   "cell_type": "code",
   "execution_count": 7,
   "id": "d103faab-9269-49fc-9070-6acc31bc63be",
   "metadata": {},
   "outputs": [
    {
     "data": {
      "text/plain": [
       "1"
      ]
     },
     "execution_count": 7,
     "metadata": {},
     "output_type": "execute_result"
    }
   ],
   "source": [
    "my_list[0]"
   ]
  },
  {
   "cell_type": "code",
   "execution_count": 8,
   "id": "642ef913-cfff-4234-bc4c-e2d0c81ceacd",
   "metadata": {},
   "outputs": [],
   "source": [
    "my_list[0] = 5"
   ]
  },
  {
   "cell_type": "code",
   "execution_count": 9,
   "id": "6890dbdb-9d41-4822-a7b5-f957db8ce592",
   "metadata": {},
   "outputs": [
    {
     "data": {
      "text/plain": [
       "[5, 2, 3]"
      ]
     },
     "execution_count": 9,
     "metadata": {},
     "output_type": "execute_result"
    }
   ],
   "source": [
    "my_list"
   ]
  },
  {
   "cell_type": "markdown",
   "id": "1a5d2418-5712-4145-8b2c-de1fdfaf40e8",
   "metadata": {},
   "source": [
    "##mutable"
   ]
  },
  {
   "cell_type": "code",
   "execution_count": 10,
   "id": "3c3e51d8-7e3f-4298-a3b9-1b5e621821f7",
   "metadata": {},
   "outputs": [],
   "source": [
    "my_list[2] = 6"
   ]
  },
  {
   "cell_type": "code",
   "execution_count": 11,
   "id": "e195cd30-80e4-4afa-8f1c-66f004fa46ae",
   "metadata": {},
   "outputs": [
    {
     "data": {
      "text/plain": [
       "[5, 2, 6]"
      ]
     },
     "execution_count": 11,
     "metadata": {},
     "output_type": "execute_result"
    }
   ],
   "source": [
    "my_list"
   ]
  },
  {
   "cell_type": "code",
   "execution_count": 12,
   "id": "6b43652f-760d-48c5-bf50-347bcbc6ff9f",
   "metadata": {},
   "outputs": [],
   "source": [
    "my_list.append(7)"
   ]
  },
  {
   "cell_type": "code",
   "execution_count": 13,
   "id": "123677e8-d2a2-4945-8b20-eaf93d8ca00a",
   "metadata": {},
   "outputs": [
    {
     "data": {
      "text/plain": [
       "[5, 2, 6, 7]"
      ]
     },
     "execution_count": 13,
     "metadata": {},
     "output_type": "execute_result"
    }
   ],
   "source": [
    "my_list"
   ]
  },
  {
   "cell_type": "code",
   "execution_count": 14,
   "id": "d436cb26-b589-4103-81ed-a20a6eed1503",
   "metadata": {},
   "outputs": [
    {
     "data": {
      "text/plain": [
       "7"
      ]
     },
     "execution_count": 14,
     "metadata": {},
     "output_type": "execute_result"
    }
   ],
   "source": [
    "my_list.pop()"
   ]
  },
  {
   "cell_type": "code",
   "execution_count": 15,
   "id": "24a44ea5-7fe5-4b83-985d-f257baf54d7b",
   "metadata": {},
   "outputs": [
    {
     "data": {
      "text/plain": [
       "[5, 2, 6]"
      ]
     },
     "execution_count": 15,
     "metadata": {},
     "output_type": "execute_result"
    }
   ],
   "source": [
    "my_list"
   ]
  },
  {
   "cell_type": "code",
   "execution_count": 16,
   "id": "d8fdfae9-3663-4f42-b27d-45d76ab916b7",
   "metadata": {},
   "outputs": [],
   "source": [
    "my_mixed_list = [1,2,\"a\",\"abc\"]"
   ]
  },
  {
   "cell_type": "code",
   "execution_count": 17,
   "id": "acfd2db4-9866-4810-af14-325546845d23",
   "metadata": {},
   "outputs": [
    {
     "data": {
      "text/plain": [
       "1"
      ]
     },
     "execution_count": 17,
     "metadata": {},
     "output_type": "execute_result"
    }
   ],
   "source": [
    "my_mixed_list[0]"
   ]
  },
  {
   "cell_type": "code",
   "execution_count": 18,
   "id": "475f2de4-78d5-4a30-8478-6eff9d37b65d",
   "metadata": {},
   "outputs": [
    {
     "data": {
      "text/plain": [
       "'abc'"
      ]
     },
     "execution_count": 18,
     "metadata": {},
     "output_type": "execute_result"
    }
   ],
   "source": [
    "my_mixed_list[-1]"
   ]
  },
  {
   "cell_type": "code",
   "execution_count": 19,
   "id": "0efa777e-aa73-4de8-ac90-9201dfdf409c",
   "metadata": {},
   "outputs": [],
   "source": [
    "my_list_1 = [\"a\",\"b\",\"c\"]"
   ]
  },
  {
   "cell_type": "code",
   "execution_count": 20,
   "id": "31e8988b-48f1-4c82-a2fa-3a0f2a0a7770",
   "metadata": {},
   "outputs": [],
   "source": [
    "my_list_2 = [\"d\",\"e\",\"f\"]"
   ]
  },
  {
   "cell_type": "code",
   "execution_count": 21,
   "id": "3e35199b-0769-4cfd-b91c-e26a04bd2497",
   "metadata": {},
   "outputs": [],
   "source": [
    "my_list_3 = my_list_1 + my_list_2"
   ]
  },
  {
   "cell_type": "code",
   "execution_count": 22,
   "id": "fa430ced-aab5-44b1-8bab-eb59ca2b42e0",
   "metadata": {},
   "outputs": [
    {
     "data": {
      "text/plain": [
       "['a', 'b', 'c', 'd', 'e', 'f']"
      ]
     },
     "execution_count": 22,
     "metadata": {},
     "output_type": "execute_result"
    }
   ],
   "source": [
    "my_list_3"
   ]
  },
  {
   "cell_type": "code",
   "execution_count": 23,
   "id": "8cdaa4ff-1541-451d-834e-2594ebd6a7e5",
   "metadata": {},
   "outputs": [
    {
     "data": {
      "text/plain": [
       "['a', 'b', 'c', 'a', 'b', 'c', 'a', 'b', 'c']"
      ]
     },
     "execution_count": 23,
     "metadata": {},
     "output_type": "execute_result"
    }
   ],
   "source": [
    "my_list_1 * 3"
   ]
  },
  {
   "cell_type": "code",
   "execution_count": 25,
   "id": "71e83701-ba3d-44df-bf32-9b3da71c2b39",
   "metadata": {},
   "outputs": [],
   "source": [
    "my_list_1.reverse()"
   ]
  },
  {
   "cell_type": "code",
   "execution_count": 26,
   "id": "523db949-71c8-492b-b4d9-bce49361dd65",
   "metadata": {},
   "outputs": [
    {
     "data": {
      "text/plain": [
       "['c', 'b', 'a']"
      ]
     },
     "execution_count": 26,
     "metadata": {},
     "output_type": "execute_result"
    }
   ],
   "source": [
    "my_list_1"
   ]
  },
  {
   "cell_type": "markdown",
   "id": "b8e1a36f-27a1-4323-90bd-1edcf4aadfcf",
   "metadata": {},
   "source": [
    "##nested list"
   ]
  },
  {
   "cell_type": "code",
   "execution_count": 27,
   "id": "ca89efbf-e707-42a8-bf56-a7a293fe29d0",
   "metadata": {},
   "outputs": [],
   "source": [
    "new_list = [1,4,\"a\"]"
   ]
  },
  {
   "cell_type": "code",
   "execution_count": 28,
   "id": "8fdbff5d-fced-478e-8f0d-2cc85797236e",
   "metadata": {},
   "outputs": [],
   "source": [
    "new_list = [1,4,\"a\",[3,\"c\"]]"
   ]
  },
  {
   "cell_type": "code",
   "execution_count": 30,
   "id": "0310602b-3cb4-4ba7-b572-f9e7f408f98a",
   "metadata": {},
   "outputs": [
    {
     "data": {
      "text/plain": [
       "'a'"
      ]
     },
     "execution_count": 30,
     "metadata": {},
     "output_type": "execute_result"
    }
   ],
   "source": [
    "new_list[2]"
   ]
  },
  {
   "cell_type": "code",
   "execution_count": 31,
   "id": "076b9569-54f9-4515-952d-80ef65185bdb",
   "metadata": {},
   "outputs": [
    {
     "data": {
      "text/plain": [
       "[3, 'c']"
      ]
     },
     "execution_count": 31,
     "metadata": {},
     "output_type": "execute_result"
    }
   ],
   "source": [
    "new_list[3]"
   ]
  },
  {
   "cell_type": "code",
   "execution_count": 32,
   "id": "1983e4ef-f6e8-4483-964d-8fabd18e45a0",
   "metadata": {},
   "outputs": [],
   "source": [
    "nested_list = new_list[3]"
   ]
  },
  {
   "cell_type": "code",
   "execution_count": 33,
   "id": "f4990414-c50a-4086-a0a3-5ed6bd74c667",
   "metadata": {},
   "outputs": [
    {
     "data": {
      "text/plain": [
       "[3, 'c']"
      ]
     },
     "execution_count": 33,
     "metadata": {},
     "output_type": "execute_result"
    }
   ],
   "source": [
    "nested_list"
   ]
  },
  {
   "cell_type": "code",
   "execution_count": 34,
   "id": "ef8d5025-dcca-4a7d-949c-1eb7360a2a6f",
   "metadata": {},
   "outputs": [
    {
     "data": {
      "text/plain": [
       "'c'"
      ]
     },
     "execution_count": 34,
     "metadata": {},
     "output_type": "execute_result"
    }
   ],
   "source": [
    "nested_list[1]"
   ]
  },
  {
   "cell_type": "code",
   "execution_count": 35,
   "id": "9a2d1c55-bcdc-4649-8309-8d95ffd22bf1",
   "metadata": {},
   "outputs": [
    {
     "data": {
      "text/plain": [
       "'c'"
      ]
     },
     "execution_count": 35,
     "metadata": {},
     "output_type": "execute_result"
    }
   ],
   "source": [
    "new_list[3][1]"
   ]
  },
  {
   "cell_type": "code",
   "execution_count": 36,
   "id": "8419238f-39c7-4784-bf4c-d116869e9972",
   "metadata": {},
   "outputs": [
    {
     "data": {
      "text/plain": [
       "[1, 4, 'a', [3, 'c']]"
      ]
     },
     "execution_count": 36,
     "metadata": {},
     "output_type": "execute_result"
    }
   ],
   "source": [
    "new_list"
   ]
  },
  {
   "cell_type": "code",
   "execution_count": 37,
   "id": "cae5088c-86d9-421d-af13-127526ff9deb",
   "metadata": {},
   "outputs": [
    {
     "data": {
      "text/plain": [
       "['a', [3, 'c']]"
      ]
     },
     "execution_count": 37,
     "metadata": {},
     "output_type": "execute_result"
    }
   ],
   "source": [
    "new_list[2:]"
   ]
  },
  {
   "cell_type": "code",
   "execution_count": 38,
   "id": "c40c58bc-a5ff-4ff9-9db5-132133ed6769",
   "metadata": {},
   "outputs": [
    {
     "data": {
      "text/plain": [
       "[1, 4]"
      ]
     },
     "execution_count": 38,
     "metadata": {},
     "output_type": "execute_result"
    }
   ],
   "source": [
    "new_list[:2]"
   ]
  },
  {
   "cell_type": "code",
   "execution_count": null,
   "id": "4c9fd699-b353-4e1f-a4ae-090f0f9b8a0e",
   "metadata": {},
   "outputs": [],
   "source": []
  }
 ],
 "metadata": {
  "kernelspec": {
   "display_name": "Python 3 (ipykernel)",
   "language": "python",
   "name": "python3"
  },
  "language_info": {
   "codemirror_mode": {
    "name": "ipython",
    "version": 3
   },
   "file_extension": ".py",
   "mimetype": "text/x-python",
   "name": "python",
   "nbconvert_exporter": "python",
   "pygments_lexer": "ipython3",
   "version": "3.11.7"
  }
 },
 "nbformat": 4,
 "nbformat_minor": 5
}
