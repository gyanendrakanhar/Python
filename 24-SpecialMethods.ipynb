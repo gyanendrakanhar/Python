{
 "cells": [
  {
   "cell_type": "code",
   "execution_count": 16,
   "id": "1432293c-8839-4d12-a7f0-88a877c468d8",
   "metadata": {},
   "outputs": [],
   "source": [
    "class Fruits():\n",
    "\n",
    "    def __init__(self,name,calories):\n",
    "        self.name = name\n",
    "        self.calories = calories\n",
    "\n",
    "    def __str__(self):\n",
    "        return f\" {self.name} has {self.calories} \"\n",
    "\n",
    "    def __len__(self):\n",
    "        return self.calories"
   ]
  },
  {
   "cell_type": "code",
   "execution_count": 17,
   "id": "81de9c7c-f6ce-4f67-b0a4-1207218ae895",
   "metadata": {},
   "outputs": [],
   "source": [
    "my_fruit = Fruits(\"Banana\",200)"
   ]
  },
  {
   "cell_type": "code",
   "execution_count": 6,
   "id": "ec76a2d9-bc0f-4481-82ac-e4dee10c6741",
   "metadata": {},
   "outputs": [
    {
     "data": {
      "text/plain": [
       "200"
      ]
     },
     "execution_count": 6,
     "metadata": {},
     "output_type": "execute_result"
    }
   ],
   "source": [
    "my_fruit.calories"
   ]
  },
  {
   "cell_type": "code",
   "execution_count": 13,
   "id": "f1803264-f1f8-4dc2-8c97-ab13b2522c29",
   "metadata": {},
   "outputs": [
    {
     "name": "stdout",
     "output_type": "stream",
     "text": [
      " Banana has 200 \n"
     ]
    }
   ],
   "source": [
    "print(my_fruit)"
   ]
  },
  {
   "cell_type": "code",
   "execution_count": 18,
   "id": "35e633bc-d27c-4daa-82bf-f64b9cce4bc3",
   "metadata": {},
   "outputs": [
    {
     "data": {
      "text/plain": [
       "200"
      ]
     },
     "execution_count": 18,
     "metadata": {},
     "output_type": "execute_result"
    }
   ],
   "source": [
    "len(my_fruit)"
   ]
  },
  {
   "cell_type": "code",
   "execution_count": null,
   "id": "d0503895-d350-4ee3-b24b-6216697b6bed",
   "metadata": {},
   "outputs": [],
   "source": []
  }
 ],
 "metadata": {
  "kernelspec": {
   "display_name": "Python 3 (ipykernel)",
   "language": "python",
   "name": "python3"
  },
  "language_info": {
   "codemirror_mode": {
    "name": "ipython",
    "version": 3
   },
   "file_extension": ".py",
   "mimetype": "text/x-python",
   "name": "python",
   "nbconvert_exporter": "python",
   "pygments_lexer": "ipython3",
   "version": "3.11.7"
  }
 },
 "nbformat": 4,
 "nbformat_minor": 5
}
