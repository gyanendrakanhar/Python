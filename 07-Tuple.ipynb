{
 "cells": [
  {
   "cell_type": "code",
   "execution_count": 1,
   "id": "facabced-7ac6-40a5-a1c8-5b499ebcbe68",
   "metadata": {},
   "outputs": [],
   "source": [
    "my_list = [\"a\",1,\"c\"]"
   ]
  },
  {
   "cell_type": "code",
   "execution_count": 2,
   "id": "5c045290-2016-4757-a7a6-2cfa44eb33e9",
   "metadata": {},
   "outputs": [],
   "source": [
    "my_list[0] = \"b\""
   ]
  },
  {
   "cell_type": "code",
   "execution_count": 3,
   "id": "15003f99-aaa4-4c88-8b27-9a78d8b050ca",
   "metadata": {},
   "outputs": [
    {
     "data": {
      "text/plain": [
       "['b', 1, 'c']"
      ]
     },
     "execution_count": 3,
     "metadata": {},
     "output_type": "execute_result"
    }
   ],
   "source": [
    "my_list"
   ]
  },
  {
   "cell_type": "code",
   "execution_count": 5,
   "id": "4886fb8e-9732-40a0-ba88-d9c6b1147f1b",
   "metadata": {},
   "outputs": [],
   "source": [
    "my_tuple = (\"a\",1,\"c\")"
   ]
  },
  {
   "cell_type": "code",
   "execution_count": 6,
   "id": "c7347e13-0c7f-4411-a0ac-ef84f7e4140d",
   "metadata": {},
   "outputs": [
    {
     "data": {
      "text/plain": [
       "'a'"
      ]
     },
     "execution_count": 6,
     "metadata": {},
     "output_type": "execute_result"
    }
   ],
   "source": [
    "my_tuple[0]"
   ]
  },
  {
   "cell_type": "code",
   "execution_count": 8,
   "id": "00399cb9-cb7f-4e3b-9d14-543b316c2ea8",
   "metadata": {},
   "outputs": [],
   "source": [
    "#my_tuple[0] = \"b\""
   ]
  },
  {
   "cell_type": "markdown",
   "id": "393abba9-3020-438e-be03-3194b29366db",
   "metadata": {},
   "source": [
    "##immutable"
   ]
  },
  {
   "cell_type": "code",
   "execution_count": 9,
   "id": "d004d001-3907-4649-a7be-acc5e08c90f3",
   "metadata": {},
   "outputs": [],
   "source": [
    "##my_tuple[1] = \"v\""
   ]
  },
  {
   "cell_type": "code",
   "execution_count": 10,
   "id": "319cf6ea-39d0-4763-a0e0-195228289a0a",
   "metadata": {},
   "outputs": [
    {
     "data": {
      "text/plain": [
       "1"
      ]
     },
     "execution_count": 10,
     "metadata": {},
     "output_type": "execute_result"
    }
   ],
   "source": [
    "my_tuple.count(\"a\")"
   ]
  },
  {
   "cell_type": "code",
   "execution_count": 11,
   "id": "d2e1395b-6dca-4918-bd41-8b2a500c59c3",
   "metadata": {},
   "outputs": [],
   "source": [
    "my_tuple_2 = (1,1,1,\"a\",\"c\")"
   ]
  },
  {
   "cell_type": "code",
   "execution_count": 12,
   "id": "f094a16a-9849-46e1-afaf-d7effbc79e62",
   "metadata": {},
   "outputs": [
    {
     "data": {
      "text/plain": [
       "3"
      ]
     },
     "execution_count": 12,
     "metadata": {},
     "output_type": "execute_result"
    }
   ],
   "source": [
    "my_tuple_2.count(1)"
   ]
  },
  {
   "cell_type": "code",
   "execution_count": 13,
   "id": "0571f2e1-ef31-4d46-bacc-40044514e6d3",
   "metadata": {},
   "outputs": [
    {
     "data": {
      "text/plain": [
       "3"
      ]
     },
     "execution_count": 13,
     "metadata": {},
     "output_type": "execute_result"
    }
   ],
   "source": [
    "my_tuple_2.index(\"a\")"
   ]
  },
  {
   "cell_type": "code",
   "execution_count": 14,
   "id": "efd3d22a-22af-4aaa-964c-0360bd59ba6a",
   "metadata": {},
   "outputs": [
    {
     "data": {
      "text/plain": [
       "0"
      ]
     },
     "execution_count": 14,
     "metadata": {},
     "output_type": "execute_result"
    }
   ],
   "source": [
    "my_tuple_2.index(1)"
   ]
  },
  {
   "cell_type": "code",
   "execution_count": null,
   "id": "059a0048-3d53-4ad4-9310-19d7dc86129e",
   "metadata": {},
   "outputs": [],
   "source": []
  }
 ],
 "metadata": {
  "kernelspec": {
   "display_name": "Python 3 (ipykernel)",
   "language": "python",
   "name": "python3"
  },
  "language_info": {
   "codemirror_mode": {
    "name": "ipython",
    "version": 3
   },
   "file_extension": ".py",
   "mimetype": "text/x-python",
   "name": "python",
   "nbconvert_exporter": "python",
   "pygments_lexer": "ipython3",
   "version": "3.11.7"
  }
 },
 "nbformat": 4,
 "nbformat_minor": 5
}
