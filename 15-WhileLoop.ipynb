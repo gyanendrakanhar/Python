{
 "cells": [
  {
   "cell_type": "code",
   "execution_count": 6,
   "id": "9f6b81bb-305e-4bf0-b8c9-fa908a77205a",
   "metadata": {},
   "outputs": [],
   "source": [
    "a = 0"
   ]
  },
  {
   "cell_type": "code",
   "execution_count": 7,
   "id": "70e0f83c-f867-4eca-9e88-5c1e07c17bd0",
   "metadata": {},
   "outputs": [
    {
     "name": "stdout",
     "output_type": "stream",
     "text": [
      "hello\n",
      "hello\n",
      "hello\n",
      "hello\n",
      "hello\n",
      "hello\n"
     ]
    }
   ],
   "source": [
    "while a <= 5:\n",
    "    print(\"hello\")\n",
    "    a = a + 1"
   ]
  },
  {
   "cell_type": "code",
   "execution_count": 22,
   "id": "b15be0ce-b29a-42e3-87f3-442b0f0968f0",
   "metadata": {},
   "outputs": [],
   "source": [
    "my_list = [1,2,3,4,5]"
   ]
  },
  {
   "cell_type": "code",
   "execution_count": 9,
   "id": "2f680d23-3903-45a4-a6df-155e69ae5bb3",
   "metadata": {},
   "outputs": [
    {
     "data": {
      "text/plain": [
       "5"
      ]
     },
     "execution_count": 9,
     "metadata": {},
     "output_type": "execute_result"
    }
   ],
   "source": [
    "my_list.pop()"
   ]
  },
  {
   "cell_type": "code",
   "execution_count": 10,
   "id": "dac645f5-7a06-47f0-8074-a6c259e40d9f",
   "metadata": {},
   "outputs": [
    {
     "data": {
      "text/plain": [
       "[1, 2, 3, 4]"
      ]
     },
     "execution_count": 10,
     "metadata": {},
     "output_type": "execute_result"
    }
   ],
   "source": [
    "my_list"
   ]
  },
  {
   "cell_type": "code",
   "execution_count": 11,
   "id": "ad8b7a74-2fe8-4182-8741-a4e6c5f1768c",
   "metadata": {},
   "outputs": [],
   "source": [
    "my_list.append(5)"
   ]
  },
  {
   "cell_type": "code",
   "execution_count": 12,
   "id": "bdc4fe43-9cf1-4d81-8fb0-0385c9522896",
   "metadata": {},
   "outputs": [
    {
     "data": {
      "text/plain": [
       "[1, 2, 3, 4, 5]"
      ]
     },
     "execution_count": 12,
     "metadata": {},
     "output_type": "execute_result"
    }
   ],
   "source": [
    "my_list"
   ]
  },
  {
   "cell_type": "code",
   "execution_count": 23,
   "id": "66d47c0c-3a2c-4ff2-b41b-c6a9e62b65ac",
   "metadata": {},
   "outputs": [
    {
     "name": "stdout",
     "output_type": "stream",
     "text": [
      "3 in my list\n",
      "3 in my list\n",
      "3 in my list\n"
     ]
    }
   ],
   "source": [
    "while 3 in my_list:\n",
    "    print(\"3 in my list\")\n",
    "    my_list.pop()"
   ]
  },
  {
   "cell_type": "code",
   "execution_count": 40,
   "id": "a65e77a1-9238-4090-939b-278922839a50",
   "metadata": {},
   "outputs": [],
   "source": [
    "number = 0"
   ]
  },
  {
   "cell_type": "code",
   "execution_count": 41,
   "id": "b19c4e59-f0c4-4bfc-b7d7-66359021fcc0",
   "metadata": {},
   "outputs": [
    {
     "name": "stdout",
     "output_type": "stream",
     "text": [
      "0\n",
      "1\n",
      "2\n",
      "3\n",
      "4\n"
     ]
    }
   ],
   "source": [
    "while number < 5:\n",
    "    #if number == 5:\n",
    "    #    break\n",
    "    print(number)\n",
    "    number += 1"
   ]
  },
  {
   "cell_type": "code",
   "execution_count": 54,
   "id": "d6a4e43a-58a1-444b-a6fc-cbe5ed645b1d",
   "metadata": {},
   "outputs": [],
   "source": [
    "p = 0"
   ]
  },
  {
   "cell_type": "code",
   "execution_count": 55,
   "id": "96856374-ba3f-404a-b0bb-1da1fcd888df",
   "metadata": {},
   "outputs": [
    {
     "name": "stdout",
     "output_type": "stream",
     "text": [
      "value p p: 0\n",
      "value p p: 1\n",
      "value p p: 2\n",
      "value p p: 3\n",
      "value p p: 4\n",
      "value p p: 5\n",
      "value p p: 6\n",
      "value p p: 7\n",
      "value p p: 8\n",
      "value p p: 9\n",
      "value p p: 10\n",
      "value p p: 11\n",
      "value p p: 12\n",
      "value p p: 13\n",
      "value p p: 14\n",
      "value p p: 15\n",
      "value p p: 16\n",
      "value p p: 17\n",
      "value p p: 18\n",
      "value p p: 19\n"
     ]
    }
   ],
   "source": [
    "while p < 20:\n",
    "    #print(\"Value p: \" + str(p))\n",
    "    print(f\"value p p: {p}\")\n",
    "    p += 1"
   ]
  },
  {
   "cell_type": "code",
   "execution_count": null,
   "id": "a1fe1e68-24f7-4415-8974-bc9ddca36895",
   "metadata": {},
   "outputs": [],
   "source": []
  }
 ],
 "metadata": {
  "kernelspec": {
   "display_name": "Python 3 (ipykernel)",
   "language": "python",
   "name": "python3"
  },
  "language_info": {
   "codemirror_mode": {
    "name": "ipython",
    "version": 3
   },
   "file_extension": ".py",
   "mimetype": "text/x-python",
   "name": "python",
   "nbconvert_exporter": "python",
   "pygments_lexer": "ipython3",
   "version": "3.11.7"
  }
 },
 "nbformat": 4,
 "nbformat_minor": 5
}
