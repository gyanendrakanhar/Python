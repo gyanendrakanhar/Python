{
 "cells": [
  {
   "cell_type": "markdown",
   "id": "606cd757-9ca4-4e3e-91f2-8e8b217caedd",
   "metadata": {},
   "source": [
    "# class"
   ]
  },
  {
   "cell_type": "code",
   "execution_count": 64,
   "id": "46ac9ef7-91d5-4e56-b139-5d51f68723f6",
   "metadata": {},
   "outputs": [],
   "source": [
    "my_list = list()"
   ]
  },
  {
   "cell_type": "markdown",
   "id": "0ae3ed37-4f56-4116-8d8e-648e45f6046b",
   "metadata": {},
   "source": [
    "# instance & attributes"
   ]
  },
  {
   "cell_type": "code",
   "execution_count": 65,
   "id": "2facac84-be8b-4a54-8968-0353a71764d8",
   "metadata": {},
   "outputs": [],
   "source": [
    "# snake = my_string\n",
    "# camel = MyString"
   ]
  },
  {
   "cell_type": "code",
   "execution_count": 66,
   "id": "69f521ff-1a8f-405f-a0dd-6833bc3de4ba",
   "metadata": {},
   "outputs": [],
   "source": [
    "class Musician():\n",
    "\n",
    "    job = \"musician\"\n",
    "\n",
    "    def __init__(self,name,age,instrument):\n",
    "        self.name = name\n",
    "        self.age = age\n",
    "        self.instrument = instrument\n",
    "\n",
    "    #method\n",
    "\n",
    "    def sing(self):\n",
    "        print(f\"We are the champions! {self.instrument}\")"
   ]
  },
  {
   "cell_type": "code",
   "execution_count": 67,
   "id": "c4644398-8695-4d56-b047-74d126f8daf1",
   "metadata": {},
   "outputs": [],
   "source": [
    "my_musician = Musician(\"James\",50, \"Guitar\") #instance store in a variable"
   ]
  },
  {
   "cell_type": "code",
   "execution_count": 68,
   "id": "0b58782b-b77e-40ac-bbd6-fac1e5b30bd2",
   "metadata": {},
   "outputs": [
    {
     "data": {
      "text/plain": [
       "50"
      ]
     },
     "execution_count": 68,
     "metadata": {},
     "output_type": "execute_result"
    }
   ],
   "source": [
    "my_musician.age"
   ]
  },
  {
   "cell_type": "code",
   "execution_count": 69,
   "id": "0d02824a-37df-49ee-976a-b1b36a507c63",
   "metadata": {},
   "outputs": [
    {
     "data": {
      "text/plain": [
       "'James'"
      ]
     },
     "execution_count": 69,
     "metadata": {},
     "output_type": "execute_result"
    }
   ],
   "source": [
    "my_musician.name"
   ]
  },
  {
   "cell_type": "code",
   "execution_count": 70,
   "id": "0bfe0123-4f76-4642-948f-79ecd527e662",
   "metadata": {},
   "outputs": [],
   "source": [
    "my_musician.name = \"Lars\""
   ]
  },
  {
   "cell_type": "code",
   "execution_count": 71,
   "id": "9d5c073f-5024-44b9-8f85-5fef497aada2",
   "metadata": {},
   "outputs": [
    {
     "data": {
      "text/plain": [
       "'Lars'"
      ]
     },
     "execution_count": 71,
     "metadata": {},
     "output_type": "execute_result"
    }
   ],
   "source": [
    "my_musician.name"
   ]
  },
  {
   "cell_type": "code",
   "execution_count": 72,
   "id": "be812a9d-0ac1-4ab7-be5b-0eb60778885a",
   "metadata": {},
   "outputs": [
    {
     "data": {
      "text/plain": [
       "'Guitar'"
      ]
     },
     "execution_count": 72,
     "metadata": {},
     "output_type": "execute_result"
    }
   ],
   "source": [
    "my_musician.instrument"
   ]
  },
  {
   "cell_type": "code",
   "execution_count": 73,
   "id": "2aa9965c-cbc9-4206-a49a-9fbc294ac00b",
   "metadata": {},
   "outputs": [],
   "source": [
    "my_musician.job = \"singer\""
   ]
  },
  {
   "cell_type": "code",
   "execution_count": 74,
   "id": "c749625a-b506-4678-9e45-13734e5ee30e",
   "metadata": {},
   "outputs": [
    {
     "name": "stdout",
     "output_type": "stream",
     "text": [
      "We are the champions! Guitar\n"
     ]
    }
   ],
   "source": [
    "my_musician.sing()"
   ]
  },
  {
   "cell_type": "code",
   "execution_count": 75,
   "id": "3d7e6187-5046-44a0-82b3-097d146a4a81",
   "metadata": {},
   "outputs": [
    {
     "name": "stdout",
     "output_type": "stream",
     "text": [
      "We are the champions! Guitar\n"
     ]
    }
   ],
   "source": [
    "my_musician.sing()"
   ]
  },
  {
   "cell_type": "code",
   "execution_count": 83,
   "id": "d2baa30e-9cac-457e-a305-1eefd198dcb9",
   "metadata": {},
   "outputs": [],
   "source": [
    "class DogYears():\n",
    "\n",
    "    year_factor = 7\n",
    "\n",
    "    def __init__(self,age=5):\n",
    "        self.age = age\n",
    "        self.age_multiplied = age * 7\n",
    "\n",
    "    def calculation(self):\n",
    "        return self.age * DogYears.year_factor"
   ]
  },
  {
   "cell_type": "code",
   "execution_count": 84,
   "id": "e43e7671-3fe4-4800-8d87-95cd5cbf80f2",
   "metadata": {},
   "outputs": [],
   "source": [
    "my_dog = DogYears()"
   ]
  },
  {
   "cell_type": "code",
   "execution_count": 88,
   "id": "84e942f1-ab0a-4e44-898b-a2bc94a3ae50",
   "metadata": {},
   "outputs": [
    {
     "data": {
      "text/plain": [
       "35"
      ]
     },
     "execution_count": 88,
     "metadata": {},
     "output_type": "execute_result"
    }
   ],
   "source": [
    "my_dog.calculation()"
   ]
  },
  {
   "cell_type": "code",
   "execution_count": 87,
   "id": "9e7b867d-7b0e-4ae8-bcbf-f90583521355",
   "metadata": {},
   "outputs": [
    {
     "data": {
      "text/plain": [
       "35"
      ]
     },
     "execution_count": 87,
     "metadata": {},
     "output_type": "execute_result"
    }
   ],
   "source": [
    "my_dog.age_multiplied"
   ]
  },
  {
   "cell_type": "markdown",
   "id": "4ba02d08-18c6-4320-9781-aa6fc4ee2d01",
   "metadata": {},
   "source": [
    "# inheritance"
   ]
  },
  {
   "cell_type": "code",
   "execution_count": 89,
   "id": "e0980b45-bbbb-4706-9f7f-f41d0103923c",
   "metadata": {},
   "outputs": [],
   "source": [
    "class Class1():\n",
    "\n",
    "    def __init__(self):\n",
    "        print(\"Class 1 created\")\n",
    "\n",
    "    def method_1(self):\n",
    "        print(\"method 1\")\n",
    "\n",
    "    def method_2(self):\n",
    "        print(\"method 2\")"
   ]
  },
  {
   "cell_type": "code",
   "execution_count": 90,
   "id": "3b679da3-db84-46f5-94d3-0545f0f7a2e7",
   "metadata": {},
   "outputs": [
    {
     "name": "stdout",
     "output_type": "stream",
     "text": [
      "Class 1 created\n"
     ]
    }
   ],
   "source": [
    "my_instance = Class1()"
   ]
  },
  {
   "cell_type": "code",
   "execution_count": 91,
   "id": "f344d332-fe90-4f65-b35b-3c59d06fa56d",
   "metadata": {},
   "outputs": [
    {
     "name": "stdout",
     "output_type": "stream",
     "text": [
      "method 1\n"
     ]
    }
   ],
   "source": [
    "my_instance.method_1()"
   ]
  },
  {
   "cell_type": "code",
   "execution_count": 92,
   "id": "6e7e4f3e-2bc7-40cd-91f5-942d3656d3d8",
   "metadata": {},
   "outputs": [
    {
     "name": "stdout",
     "output_type": "stream",
     "text": [
      "method 2\n"
     ]
    }
   ],
   "source": [
    "my_instance.method_2()"
   ]
  },
  {
   "cell_type": "code",
   "execution_count": 105,
   "id": "000c25cc-c8d7-470d-a2c3-3915a07b3e49",
   "metadata": {},
   "outputs": [],
   "source": [
    "class Class2(Class1):\n",
    "\n",
    "    def __init__(self):\n",
    "        Class1.__init__(self)\n",
    "        print(\"Class 2 created\")\n",
    "\n",
    "    def method_3(self):\n",
    "        print(\"method 3\")\n",
    "\n",
    "    #override\n",
    "\n",
    "    def method_1(self):\n",
    "        print(\"method 1 override\")"
   ]
  },
  {
   "cell_type": "code",
   "execution_count": 106,
   "id": "4d63e660-e2a3-414e-9e12-374013310c6b",
   "metadata": {},
   "outputs": [
    {
     "name": "stdout",
     "output_type": "stream",
     "text": [
      "Class 1 created\n",
      "Class 2 created\n"
     ]
    }
   ],
   "source": [
    "my_instance_2 = Class2()"
   ]
  },
  {
   "cell_type": "code",
   "execution_count": 100,
   "id": "a0fc5ece-4699-4ca0-8032-1a92799b3281",
   "metadata": {},
   "outputs": [
    {
     "name": "stdout",
     "output_type": "stream",
     "text": [
      "method 1\n"
     ]
    }
   ],
   "source": [
    "my_instance_2.method_1()"
   ]
  },
  {
   "cell_type": "code",
   "execution_count": 101,
   "id": "9e5c83dc-f2dc-4312-87f2-a44fa5be234e",
   "metadata": {},
   "outputs": [
    {
     "name": "stdout",
     "output_type": "stream",
     "text": [
      "method 2\n"
     ]
    }
   ],
   "source": [
    "my_instance_2.method_2()"
   ]
  },
  {
   "cell_type": "code",
   "execution_count": 107,
   "id": "14abfd9c-d7d2-47ad-8773-240b1c932e79",
   "metadata": {},
   "outputs": [
    {
     "name": "stdout",
     "output_type": "stream",
     "text": [
      "method 1 override\n"
     ]
    }
   ],
   "source": [
    "my_instance_2.method_1()"
   ]
  },
  {
   "cell_type": "code",
   "execution_count": null,
   "id": "02782d28-562b-4b5b-b1ca-a6c85b349469",
   "metadata": {},
   "outputs": [],
   "source": []
  }
 ],
 "metadata": {
  "kernelspec": {
   "display_name": "Python 3 (ipykernel)",
   "language": "python",
   "name": "python3"
  },
  "language_info": {
   "codemirror_mode": {
    "name": "ipython",
    "version": 3
   },
   "file_extension": ".py",
   "mimetype": "text/x-python",
   "name": "python",
   "nbconvert_exporter": "python",
   "pygments_lexer": "ipython3",
   "version": "3.11.7"
  }
 },
 "nbformat": 4,
 "nbformat_minor": 5
}
